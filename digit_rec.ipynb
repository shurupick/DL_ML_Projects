{
 "cells": [
  {
   "cell_type": "code",
   "execution_count": 1,
   "id": "9b5919a2",
   "metadata": {
    "_cell_guid": "b1076dfc-b9ad-4769-8c92-a6c4dae69d19",
    "_uuid": "8f2839f25d086af736a60e9eeb907d3b93b6e0e5",
    "execution": {
     "iopub.execute_input": "2023-10-28T16:14:48.293511Z",
     "iopub.status.busy": "2023-10-28T16:14:48.292907Z",
     "iopub.status.idle": "2023-10-28T16:14:50.088368Z",
     "shell.execute_reply": "2023-10-28T16:14:50.087490Z"
    },
    "papermill": {
     "duration": 1.8024,
     "end_time": "2023-10-28T16:14:50.090258",
     "exception": false,
     "start_time": "2023-10-28T16:14:48.287858",
     "status": "completed"
    },
    "tags": []
   },
   "outputs": [
    {
     "name": "stdout",
     "output_type": "stream",
     "text": [
      "/kaggle/input/digit-recognizer/sample_submission.csv\n",
      "/kaggle/input/digit-recognizer/train.csv\n",
      "/kaggle/input/digit-recognizer/test.csv\n"
     ]
    }
   ],
   "source": [
    "# This Python 3 environment comes with many helpful analytics libraries installed\n",
    "# It is defined by the kaggle/python Docker image: https://github.com/kaggle/docker-python\n",
    "# For example, here's several helpful packages to load\n",
    "\n",
    "import numpy as np # linear algebra\n",
    "import pandas as pd # data processing, CSV file I/O (e.g. pd.read_csv)\n",
    "from sklearn.neighbors import KNeighborsClassifier\n",
    "import matplotlib.pyplot as plt\n",
    "import seaborn as sns\n",
    "from scipy.stats import randint\n",
    "from scipy.ndimage import shift, rotate, zoom\n",
    "from sklearn.decomposition import PCA\n",
    "\n",
    "# Input data files are available in the read-only \"../input/\" directory\n",
    "# For example, running this (by clicking run or pressing Shift+Enter) will list all files under the input directory\n",
    "\n",
    "import os\n",
    "for dirname, _, filenames in os.walk('/kaggle/input'):\n",
    "    for filename in filenames:\n",
    "        print(os.path.join(dirname, filename))\n",
    "\n",
    "# You can write up to 20GB to the current directory (/kaggle/working/) that gets preserved as output when you create a version using \"Save & Run All\" \n",
    "# You can also write temporary files to /kaggle/temp/, but they won't be saved outside of the current session"
   ]
  },
  {
   "cell_type": "markdown",
   "id": "a5c61360",
   "metadata": {
    "papermill": {
     "duration": 0.002784,
     "end_time": "2023-10-28T16:14:50.097994",
     "exception": false,
     "start_time": "2023-10-28T16:14:50.095210",
     "status": "completed"
    },
    "tags": []
   },
   "source": [
    " Создаем переменные пути и считываем тренировочную и тестовую выборку"
   ]
  },
  {
   "cell_type": "code",
   "execution_count": 2,
   "id": "e51f4f5b",
   "metadata": {
    "execution": {
     "iopub.execute_input": "2023-10-28T16:14:50.105915Z",
     "iopub.status.busy": "2023-10-28T16:14:50.105156Z",
     "iopub.status.idle": "2023-10-28T16:14:54.138811Z",
     "shell.execute_reply": "2023-10-28T16:14:54.138144Z"
    },
    "papermill": {
     "duration": 4.039853,
     "end_time": "2023-10-28T16:14:54.140809",
     "exception": false,
     "start_time": "2023-10-28T16:14:50.100956",
     "status": "completed"
    },
    "tags": []
   },
   "outputs": [],
   "source": [
    "train_path = f\"{dirname}/{filenames[1]}\"\n",
    "test_path = f\"{dirname}/{filenames[2]}\"\n",
    "\n",
    "train_data = pd.read_csv(train_path)\n",
    "test_data = pd.read_csv(test_path)"
   ]
  },
  {
   "cell_type": "code",
   "execution_count": 3,
   "id": "7fd7de2c",
   "metadata": {
    "execution": {
     "iopub.execute_input": "2023-10-28T16:14:54.148266Z",
     "iopub.status.busy": "2023-10-28T16:14:54.147967Z",
     "iopub.status.idle": "2023-10-28T16:14:54.207041Z",
     "shell.execute_reply": "2023-10-28T16:14:54.205988Z"
    },
    "papermill": {
     "duration": 0.064992,
     "end_time": "2023-10-28T16:14:54.209103",
     "exception": false,
     "start_time": "2023-10-28T16:14:54.144111",
     "status": "completed"
    },
    "tags": []
   },
   "outputs": [
    {
     "name": "stdout",
     "output_type": "stream",
     "text": [
      "(42000, 784)\n",
      "(42000,)\n",
      "(28000, 784)\n"
     ]
    }
   ],
   "source": [
    "X_train = train_data.drop('label', axis=1).values\n",
    "y_train = train_data.label.values\n",
    "X_test = test_data.values\n",
    "print(X_train.shape)\n",
    "print(y_train.shape)\n",
    "print(test_data.shape)"
   ]
  },
  {
   "cell_type": "code",
   "execution_count": 4,
   "id": "c3ef0e0e",
   "metadata": {
    "execution": {
     "iopub.execute_input": "2023-10-28T16:14:54.216330Z",
     "iopub.status.busy": "2023-10-28T16:14:54.216047Z",
     "iopub.status.idle": "2023-10-28T16:14:54.232728Z",
     "shell.execute_reply": "2023-10-28T16:14:54.231949Z"
    },
    "papermill": {
     "duration": 0.022027,
     "end_time": "2023-10-28T16:14:54.234370",
     "exception": false,
     "start_time": "2023-10-28T16:14:54.212343",
     "status": "completed"
    },
    "tags": []
   },
   "outputs": [
    {
     "data": {
      "text/html": [
       "<div>\n",
       "<style scoped>\n",
       "    .dataframe tbody tr th:only-of-type {\n",
       "        vertical-align: middle;\n",
       "    }\n",
       "\n",
       "    .dataframe tbody tr th {\n",
       "        vertical-align: top;\n",
       "    }\n",
       "\n",
       "    .dataframe thead th {\n",
       "        text-align: right;\n",
       "    }\n",
       "</style>\n",
       "<table border=\"1\" class=\"dataframe\">\n",
       "  <thead>\n",
       "    <tr style=\"text-align: right;\">\n",
       "      <th></th>\n",
       "      <th>label</th>\n",
       "      <th>pixel0</th>\n",
       "      <th>pixel1</th>\n",
       "      <th>pixel2</th>\n",
       "      <th>pixel3</th>\n",
       "      <th>pixel4</th>\n",
       "      <th>pixel5</th>\n",
       "      <th>pixel6</th>\n",
       "      <th>pixel7</th>\n",
       "      <th>pixel8</th>\n",
       "      <th>...</th>\n",
       "      <th>pixel774</th>\n",
       "      <th>pixel775</th>\n",
       "      <th>pixel776</th>\n",
       "      <th>pixel777</th>\n",
       "      <th>pixel778</th>\n",
       "      <th>pixel779</th>\n",
       "      <th>pixel780</th>\n",
       "      <th>pixel781</th>\n",
       "      <th>pixel782</th>\n",
       "      <th>pixel783</th>\n",
       "    </tr>\n",
       "  </thead>\n",
       "  <tbody>\n",
       "    <tr>\n",
       "      <th>0</th>\n",
       "      <td>1</td>\n",
       "      <td>0</td>\n",
       "      <td>0</td>\n",
       "      <td>0</td>\n",
       "      <td>0</td>\n",
       "      <td>0</td>\n",
       "      <td>0</td>\n",
       "      <td>0</td>\n",
       "      <td>0</td>\n",
       "      <td>0</td>\n",
       "      <td>...</td>\n",
       "      <td>0</td>\n",
       "      <td>0</td>\n",
       "      <td>0</td>\n",
       "      <td>0</td>\n",
       "      <td>0</td>\n",
       "      <td>0</td>\n",
       "      <td>0</td>\n",
       "      <td>0</td>\n",
       "      <td>0</td>\n",
       "      <td>0</td>\n",
       "    </tr>\n",
       "    <tr>\n",
       "      <th>1</th>\n",
       "      <td>0</td>\n",
       "      <td>0</td>\n",
       "      <td>0</td>\n",
       "      <td>0</td>\n",
       "      <td>0</td>\n",
       "      <td>0</td>\n",
       "      <td>0</td>\n",
       "      <td>0</td>\n",
       "      <td>0</td>\n",
       "      <td>0</td>\n",
       "      <td>...</td>\n",
       "      <td>0</td>\n",
       "      <td>0</td>\n",
       "      <td>0</td>\n",
       "      <td>0</td>\n",
       "      <td>0</td>\n",
       "      <td>0</td>\n",
       "      <td>0</td>\n",
       "      <td>0</td>\n",
       "      <td>0</td>\n",
       "      <td>0</td>\n",
       "    </tr>\n",
       "    <tr>\n",
       "      <th>2</th>\n",
       "      <td>1</td>\n",
       "      <td>0</td>\n",
       "      <td>0</td>\n",
       "      <td>0</td>\n",
       "      <td>0</td>\n",
       "      <td>0</td>\n",
       "      <td>0</td>\n",
       "      <td>0</td>\n",
       "      <td>0</td>\n",
       "      <td>0</td>\n",
       "      <td>...</td>\n",
       "      <td>0</td>\n",
       "      <td>0</td>\n",
       "      <td>0</td>\n",
       "      <td>0</td>\n",
       "      <td>0</td>\n",
       "      <td>0</td>\n",
       "      <td>0</td>\n",
       "      <td>0</td>\n",
       "      <td>0</td>\n",
       "      <td>0</td>\n",
       "    </tr>\n",
       "    <tr>\n",
       "      <th>3</th>\n",
       "      <td>4</td>\n",
       "      <td>0</td>\n",
       "      <td>0</td>\n",
       "      <td>0</td>\n",
       "      <td>0</td>\n",
       "      <td>0</td>\n",
       "      <td>0</td>\n",
       "      <td>0</td>\n",
       "      <td>0</td>\n",
       "      <td>0</td>\n",
       "      <td>...</td>\n",
       "      <td>0</td>\n",
       "      <td>0</td>\n",
       "      <td>0</td>\n",
       "      <td>0</td>\n",
       "      <td>0</td>\n",
       "      <td>0</td>\n",
       "      <td>0</td>\n",
       "      <td>0</td>\n",
       "      <td>0</td>\n",
       "      <td>0</td>\n",
       "    </tr>\n",
       "    <tr>\n",
       "      <th>4</th>\n",
       "      <td>0</td>\n",
       "      <td>0</td>\n",
       "      <td>0</td>\n",
       "      <td>0</td>\n",
       "      <td>0</td>\n",
       "      <td>0</td>\n",
       "      <td>0</td>\n",
       "      <td>0</td>\n",
       "      <td>0</td>\n",
       "      <td>0</td>\n",
       "      <td>...</td>\n",
       "      <td>0</td>\n",
       "      <td>0</td>\n",
       "      <td>0</td>\n",
       "      <td>0</td>\n",
       "      <td>0</td>\n",
       "      <td>0</td>\n",
       "      <td>0</td>\n",
       "      <td>0</td>\n",
       "      <td>0</td>\n",
       "      <td>0</td>\n",
       "    </tr>\n",
       "  </tbody>\n",
       "</table>\n",
       "<p>5 rows × 785 columns</p>\n",
       "</div>"
      ],
      "text/plain": [
       "   label  pixel0  pixel1  pixel2  pixel3  pixel4  pixel5  pixel6  pixel7  \\\n",
       "0      1       0       0       0       0       0       0       0       0   \n",
       "1      0       0       0       0       0       0       0       0       0   \n",
       "2      1       0       0       0       0       0       0       0       0   \n",
       "3      4       0       0       0       0       0       0       0       0   \n",
       "4      0       0       0       0       0       0       0       0       0   \n",
       "\n",
       "   pixel8  ...  pixel774  pixel775  pixel776  pixel777  pixel778  pixel779  \\\n",
       "0       0  ...         0         0         0         0         0         0   \n",
       "1       0  ...         0         0         0         0         0         0   \n",
       "2       0  ...         0         0         0         0         0         0   \n",
       "3       0  ...         0         0         0         0         0         0   \n",
       "4       0  ...         0         0         0         0         0         0   \n",
       "\n",
       "   pixel780  pixel781  pixel782  pixel783  \n",
       "0         0         0         0         0  \n",
       "1         0         0         0         0  \n",
       "2         0         0         0         0  \n",
       "3         0         0         0         0  \n",
       "4         0         0         0         0  \n",
       "\n",
       "[5 rows x 785 columns]"
      ]
     },
     "execution_count": 4,
     "metadata": {},
     "output_type": "execute_result"
    }
   ],
   "source": [
    "train_data.head()"
   ]
  },
  {
   "cell_type": "code",
   "execution_count": 5,
   "id": "a56e2e6f",
   "metadata": {
    "execution": {
     "iopub.execute_input": "2023-10-28T16:14:54.241933Z",
     "iopub.status.busy": "2023-10-28T16:14:54.241554Z",
     "iopub.status.idle": "2023-10-28T16:14:54.738761Z",
     "shell.execute_reply": "2023-10-28T16:14:54.737668Z"
    },
    "papermill": {
     "duration": 0.503105,
     "end_time": "2023-10-28T16:14:54.740762",
     "exception": false,
     "start_time": "2023-10-28T16:14:54.237657",
     "status": "completed"
    },
    "tags": []
   },
   "outputs": [
    {
     "data": {
      "image/png": "[encoded data removed]",
      "text/plain": [
       "<Figure size 1200x800 with 10 Axes>"
      ]
     },
     "metadata": {},
     "output_type": "display_data"
    }
   ],
   "source": [
    "_, ax = plt.subplots(1, 10, figsize=(12, 8))\n",
    "for i in range(10):\n",
    "    digit = X_train[i].reshape(28, 28)\n",
    "    ax[i].imshow(digit, cmap=plt.cm.binary, interpolation='bilinear')\n",
    "    ax[i].set_axis_off()\n",
    "    ax[i].set_title(y_train[i])"
   ]
  },
  {
   "cell_type": "code",
   "execution_count": 6,
   "id": "2eee1a9d",
   "metadata": {
    "execution": {
     "iopub.execute_input": "2023-10-28T16:14:54.750138Z",
     "iopub.status.busy": "2023-10-28T16:14:54.749443Z",
     "iopub.status.idle": "2023-10-28T16:14:54.753499Z",
     "shell.execute_reply": "2023-10-28T16:14:54.752578Z"
    },
    "papermill": {
     "duration": 0.010683,
     "end_time": "2023-10-28T16:14:54.755377",
     "exception": false,
     "start_time": "2023-10-28T16:14:54.744694",
     "status": "completed"
    },
    "tags": []
   },
   "outputs": [],
   "source": [
    "# pca = PCA(n_components=50)\n",
    "# X_pca = pca.fit_transform(X_train)\n",
    "# X_pca_test = pca.fit_transform(test_data)\n",
    "# print('Shape before PCA: {}. Shape after PCA: {}'.format(X_train.shape, X_pca.shape))\n",
    "# print('Shape before PCA: {}. Shape after PCA: {}'.format(test_data.shape, X_pca_test.shape))"
   ]
  },
  {
   "cell_type": "code",
   "execution_count": 7,
   "id": "6c454479",
   "metadata": {
    "execution": {
     "iopub.execute_input": "2023-10-28T16:14:54.764212Z",
     "iopub.status.busy": "2023-10-28T16:14:54.763953Z",
     "iopub.status.idle": "2023-10-28T16:15:40.153348Z",
     "shell.execute_reply": "2023-10-28T16:15:40.152371Z"
    },
    "papermill": {
     "duration": 45.398355,
     "end_time": "2023-10-28T16:15:40.157785",
     "exception": false,
     "start_time": "2023-10-28T16:14:54.759430",
     "status": "completed"
    },
    "tags": []
   },
   "outputs": [
    {
     "name": "stdout",
     "output_type": "stream",
     "text": [
      "X_train_add shape: (336000, 784)\n",
      "y_train_add shape: (336000,)\n"
     ]
    }
   ],
   "source": [
    "def shift_in_one_direction(image, direction):\n",
    "    \"\"\"\n",
    "    Shifts an image by one pixel in the specified direction\n",
    "    \"\"\"\n",
    "    if direction == \"DOWN\":\n",
    "        image = shift(image, [1, 0])\n",
    "    elif direction == \"UP\":\n",
    "        image = shift(image, [-1, 0])\n",
    "    elif direction == \"LEFT\":\n",
    "        image = shift(image, [0, -1])\n",
    "    else:\n",
    "        image = shift(image, [0, 1])\n",
    "\n",
    "    return image\n",
    "\n",
    "\n",
    "def shift_in_all_directions(image):\n",
    "    \"\"\"\n",
    "    Shifts an image in all the directions by one pixel\n",
    "    \"\"\"\n",
    "    reshaped_image = image.reshape(28, 28)\n",
    "\n",
    "    down_shifted_image = shift_in_one_direction(reshaped_image, \"DOWN\")\n",
    "    up_shifted_image = shift_in_one_direction(reshaped_image, \"UP\")\n",
    "    left_shifted_image = shift_in_one_direction(reshaped_image, \"LEFT\")\n",
    "    right_shifted_image = shift_in_one_direction(reshaped_image, \"RIGHT\")\n",
    "\n",
    "    return (down_shifted_image, up_shifted_image,\n",
    "            left_shifted_image, right_shifted_image)\n",
    "\n",
    "\n",
    "def rotate_in_all_directions(image, angle):\n",
    "    \"\"\"\n",
    "    Rotates an image clockwise and anti-clockwise\n",
    "    \"\"\"\n",
    "    reshaped_image = image.reshape(28, 28)\n",
    "    \n",
    "    rotated_images = (rotate(reshaped_image, angle, reshape=False),\n",
    "                      rotate(reshaped_image, -angle, reshape=False))\n",
    "    \n",
    "    return rotated_images\n",
    "\n",
    "\n",
    "def clipped_zoom(image, zoom_ranges):\n",
    "    \"\"\"\n",
    "    Clips and zooms an image at the specified zooming ranges\n",
    "    \"\"\"\n",
    "    reshaped_image = image.reshape(28, 28)\n",
    "    \n",
    "    h, w = reshaped_image.shape\n",
    "    \n",
    "    zoomed_images = []\n",
    "    for zoom_range in zoom_ranges:\n",
    "        zh = int(np.round(h / zoom_range))\n",
    "        zw = int(np.round(w / zoom_range))\n",
    "        top = (h - zh) // 2\n",
    "        left = (w - zw) // 2\n",
    "        \n",
    "        zoomed_images.append(zoom(reshaped_image[top:top+zh, left:left+zw],\n",
    "                                  zoom_range))\n",
    "    \n",
    "    return zoomed_images\n",
    "\n",
    "def alter_image(image):\n",
    "    \"\"\"\n",
    "    Alters an image by shifting, rotating, and zooming it\n",
    "    \"\"\"\n",
    "    shifted_images = shift_in_all_directions(image)\n",
    "    rotated_images = rotate_in_all_directions(image, 10)\n",
    "    zoomed_images = clipped_zoom(image, [1.1, 1.2])\n",
    "            \n",
    "    return np.r_[shifted_images, rotated_images, zoomed_images]\n",
    "\n",
    "X_train_add = np.apply_along_axis(alter_image, 1, X_train).reshape(-1, 784)\n",
    "y_train_add = np.repeat(y_train, 8)\n",
    "\n",
    "print(f\"X_train_add shape: {X_train_add.shape}\")\n",
    "print(f\"y_train_add shape: {y_train_add.shape}\")"
   ]
  },
  {
   "cell_type": "code",
   "execution_count": 8,
   "id": "d2cc778c",
   "metadata": {
    "execution": {
     "iopub.execute_input": "2023-10-28T16:15:40.166782Z",
     "iopub.status.busy": "2023-10-28T16:15:40.166481Z",
     "iopub.status.idle": "2023-10-28T16:15:40.673679Z",
     "shell.execute_reply": "2023-10-28T16:15:40.672266Z"
    },
    "papermill": {
     "duration": 0.51422,
     "end_time": "2023-10-28T16:15:40.675935",
     "exception": false,
     "start_time": "2023-10-28T16:15:40.161715",
     "status": "completed"
    },
    "tags": []
   },
   "outputs": [
    {
     "name": "stdout",
     "output_type": "stream",
     "text": [
      "X_train_combined shape: (378000, 784)\n",
      "y_train_combined shape: (378000,)\n"
     ]
    }
   ],
   "source": [
    "X_train_combined = np.r_[X_train, X_train_add]\n",
    "y_train_combined = np.r_[y_train, y_train_add]\n",
    "\n",
    "del X_train\n",
    "del X_train_add\n",
    "del y_train\n",
    "del y_train_add\n",
    "\n",
    "print(f\"X_train_combined shape: {X_train_combined.shape}\")\n",
    "print(f\"y_train_combined shape: {y_train_combined.shape}\")"
   ]
  },
  {
   "cell_type": "code",
   "execution_count": 9,
   "id": "ced81fcf",
   "metadata": {
    "execution": {
     "iopub.execute_input": "2023-10-28T16:15:40.685024Z",
     "iopub.status.busy": "2023-10-28T16:15:40.684663Z",
     "iopub.status.idle": "2023-10-28T16:15:40.713637Z",
     "shell.execute_reply": "2023-10-28T16:15:40.712765Z"
    },
    "papermill": {
     "duration": 0.035578,
     "end_time": "2023-10-28T16:15:40.715486",
     "exception": false,
     "start_time": "2023-10-28T16:15:40.679908",
     "status": "completed"
    },
    "tags": []
   },
   "outputs": [
    {
     "data": {
      "text/html": [
       "<style>#sk-container-id-1 {color: black;background-color: white;}#sk-container-id-1 pre{padding: 0;}#sk-container-id-1 div.sk-toggleable {background-color: white;}#sk-container-id-1 label.sk-toggleable__label {cursor: pointer;display: block;width: 100%;margin-bottom: 0;padding: 0.3em;box-sizing: border-box;text-align: center;}#sk-container-id-1 label.sk-toggleable__label-arrow:before {content: \"▸\";float: left;margin-right: 0.25em;color: #696969;}#sk-container-id-1 label.sk-toggleable__label-arrow:hover:before {color: black;}#sk-container-id-1 div.sk-estimator:hover label.sk-toggleable__label-arrow:before {color: black;}#sk-container-id-1 div.sk-toggleable__content {max-height: 0;max-width: 0;overflow: hidden;text-align: left;background-color: #f0f8ff;}#sk-container-id-1 div.sk-toggleable__content pre {margin: 0.2em;color: black;border-radius: 0.25em;background-color: #f0f8ff;}#sk-container-id-1 input.sk-toggleable__control:checked~div.sk-toggleable__content {max-height: 200px;max-width: 100%;overflow: auto;}#sk-container-id-1 input.sk-toggleable__control:checked~label.sk-toggleable__label-arrow:before {content: \"▾\";}#sk-container-id-1 div.sk-estimator input.sk-toggleable__control:checked~label.sk-toggleable__label {background-color: #d4ebff;}#sk-container-id-1 div.sk-label input.sk-toggleable__control:checked~label.sk-toggleable__label {background-color: #d4ebff;}#sk-container-id-1 input.sk-hidden--visually {border: 0;clip: rect(1px 1px 1px 1px);clip: rect(1px, 1px, 1px, 1px);height: 1px;margin: -1px;overflow: hidden;padding: 0;position: absolute;width: 1px;}#sk-container-id-1 div.sk-estimator {font-family: monospace;background-color: #f0f8ff;border: 1px dotted black;border-radius: 0.25em;box-sizing: border-box;margin-bottom: 0.5em;}#sk-container-id-1 div.sk-estimator:hover {background-color: #d4ebff;}#sk-container-id-1 div.sk-parallel-item::after {content: \"\";width: 100%;border-bottom: 1px solid gray;flex-grow: 1;}#sk-container-id-1 div.sk-label:hover label.sk-toggleable__label {background-color: #d4ebff;}#sk-container-id-1 div.sk-serial::before {content: \"\";position: absolute;border-left: 1px solid gray;box-sizing: border-box;top: 0;bottom: 0;left: 50%;z-index: 0;}#sk-container-id-1 div.sk-serial {display: flex;flex-direction: column;align-items: center;background-color: white;padding-right: 0.2em;padding-left: 0.2em;position: relative;}#sk-container-id-1 div.sk-item {position: relative;z-index: 1;}#sk-container-id-1 div.sk-parallel {display: flex;align-items: stretch;justify-content: center;background-color: white;position: relative;}#sk-container-id-1 div.sk-item::before, #sk-container-id-1 div.sk-parallel-item::before {content: \"\";position: absolute;border-left: 1px solid gray;box-sizing: border-box;top: 0;bottom: 0;left: 50%;z-index: -1;}#sk-container-id-1 div.sk-parallel-item {display: flex;flex-direction: column;z-index: 1;position: relative;background-color: white;}#sk-container-id-1 div.sk-parallel-item:first-child::after {align-self: flex-end;width: 50%;}#sk-container-id-1 div.sk-parallel-item:last-child::after {align-self: flex-start;width: 50%;}#sk-container-id-1 div.sk-parallel-item:only-child::after {width: 0;}#sk-container-id-1 div.sk-dashed-wrapped {border: 1px dashed gray;margin: 0 0.4em 0.5em 0.4em;box-sizing: border-box;padding-bottom: 0.4em;background-color: white;}#sk-container-id-1 div.sk-label label {font-family: monospace;font-weight: bold;display: inline-block;line-height: 1.2em;}#sk-container-id-1 div.sk-label-container {text-align: center;}#sk-container-id-1 div.sk-container {/* jupyter's `normalize.less` sets `[hidden] { display: none; }` but bootstrap.min.css set `[hidden] { display: none !important; }` so we also need the `!important` here to be able to override the default hidden behavior on the sphinx rendered scikit-learn.org. See: https://github.com/scikit-learn/scikit-learn/issues/21755 */display: inline-block !important;position: relative;}#sk-container-id-1 div.sk-text-repr-fallback {display: none;}</style><div id=\"sk-container-id-1\" class=\"sk-top-container\"><div class=\"sk-text-repr-fallback\"><pre>KNeighborsClassifier(n_jobs=-1, n_neighbors=4, weights=&#x27;distance&#x27;)</pre><b>In a Jupyter environment, please rerun this cell to show the HTML representation or trust the notebook. <br />On GitHub, the HTML representation is unable to render, please try loading this page with nbviewer.org.</b></div><div class=\"sk-container\" hidden><div class=\"sk-item\"><div class=\"sk-estimator sk-toggleable\"><input class=\"sk-toggleable__control sk-hidden--visually\" id=\"sk-estimator-id-1\" type=\"checkbox\" checked><label for=\"sk-estimator-id-1\" class=\"sk-toggleable__label sk-toggleable__label-arrow\">KNeighborsClassifier</label><div class=\"sk-toggleable__content\"><pre>KNeighborsClassifier(n_jobs=-1, n_neighbors=4, weights=&#x27;distance&#x27;)</pre></div></div></div></div></div>"
      ],
      "text/plain": [
       "KNeighborsClassifier(n_jobs=-1, n_neighbors=4, weights='distance')"
      ]
     },
     "execution_count": 9,
     "metadata": {},
     "output_type": "execute_result"
    }
   ],
   "source": [
    "knn = KNeighborsClassifier(n_neighbors=4, weights='distance', n_jobs=-1)\n",
    "knn.fit(X_train_combined, y_train_combined)"
   ]
  },
  {
   "cell_type": "code",
   "execution_count": 10,
   "id": "e0bc6fd5",
   "metadata": {
    "execution": {
     "iopub.execute_input": "2023-10-28T16:15:40.724421Z",
     "iopub.status.busy": "2023-10-28T16:15:40.724069Z",
     "iopub.status.idle": "2023-10-28T16:22:11.915255Z",
     "shell.execute_reply": "2023-10-28T16:22:11.914599Z"
    },
    "papermill": {
     "duration": 391.197928,
     "end_time": "2023-10-28T16:22:11.917312",
     "exception": false,
     "start_time": "2023-10-28T16:15:40.719384",
     "status": "completed"
    },
    "tags": []
   },
   "outputs": [],
   "source": [
    "y_pred = knn.predict(X_test)"
   ]
  },
  {
   "cell_type": "code",
   "execution_count": 11,
   "id": "c5fcd529",
   "metadata": {
    "execution": {
     "iopub.execute_input": "2023-10-28T16:22:11.927016Z",
     "iopub.status.busy": "2023-10-28T16:22:11.926304Z",
     "iopub.status.idle": "2023-10-28T16:22:11.957785Z",
     "shell.execute_reply": "2023-10-28T16:22:11.956971Z"
    },
    "papermill": {
     "duration": 0.038524,
     "end_time": "2023-10-28T16:22:11.960062",
     "exception": false,
     "start_time": "2023-10-28T16:22:11.921538",
     "status": "completed"
    },
    "tags": []
   },
   "outputs": [],
   "source": [
    "stop = len(test_data)+1\n",
    "df = pd.DataFrame(dict(ImageId=range(1, stop), Label=y_pred))\n",
    "df.to_csv('submission.csv', index=False)"
   ]
  }
 ],
 "metadata": {
  "kernelspec": {
   "display_name": "Python 3",
   "language": "python",
   "name": "python3"
  },
  "language_info": {
   "codemirror_mode": {
    "name": "ipython",
    "version": 3
   },
   "file_extension": ".py",
   "mimetype": "text/x-python",
   "name": "python",
   "nbconvert_exporter": "python",
   "pygments_lexer": "ipython3",
   "version": "3.10.12"
  },
  "papermill": {
   "default_parameters": {},
   "duration": 446.709772,
   "end_time": "2023-10-28T16:22:12.484138",
   "environment_variables": {},
   "exception": null,
   "input_path": "__notebook__.ipynb",
   "output_path": "__notebook__.ipynb",
   "parameters": {},
   "start_time": "2023-10-28T16:14:45.774366",
   "version": "2.4.0"
  }
 },
 "nbformat": 4,
 "nbformat_minor": 5
}
